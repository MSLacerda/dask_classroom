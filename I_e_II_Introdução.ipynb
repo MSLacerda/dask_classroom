{
 "cells": [
  {
   "cell_type": "markdown",
   "id": "92e97b65-3479-49ad-b42d-35a5eab29028",
   "metadata": {},
   "source": [
    "## Introdução ao Dask - Uma abordagem para processamento distribuído em Python\n",
    "\n",
    "Descrição: O Dask é uma biblioteca Python para computação paralela e distribuída em escala de dados que oferece uma interface familiar para programadores de Python. O Dask permite que você execute operações em conjuntos de dados que não cabem na memória do seu computador local, sem ter que lidar diretamente com a complexidade da programação distribuída. Este minicurso irá ensinar como usar o Dask para processamento distribuído de grandes conjuntos de dados em Python.\n",
    "\n",
    "#### Roteiro da apresentação:\n",
    "\n",
    "I. Introdução\n",
    "\n",
    "Visão geral do Dask\n",
    "Por que usar o Dask?\n",
    "\n",
    "II. Instalação e configuração\n",
    "\n",
    "Instalando o Dask\n",
    "Configurando um cluster Dask\n",
    "\n",
    "III. Computação paralela com Dask\n",
    "\n",
    "Dask Arrays\n",
    "Dask DataFrames\n",
    "\n",
    "IV. Computação distribuída com Dask\n",
    "\n",
    "Dask Distributed\n",
    "Escalando com Dask\n",
    "\n",
    "V. Exemplos de uso\n",
    "\n",
    "Exemplo 1: Processamento de imagem\n",
    "Exemplo 2: Processamento de dados financeiros\n",
    "\n",
    "VI. Conclusão\n",
    "\n",
    "Resumo das principais características do Dask\n",
    "Próximos passos para aprofundar o conhecimento em Dask"
   ]
  },
  {
   "cell_type": "markdown",
   "id": "dec05b6a-dcb2-4cb4-84f1-230b8e915fed",
   "metadata": {},
   "source": [
    "### Boas vindas ao Dask! ✌️"
   ]
  },
  {
   "cell_type": "markdown",
   "id": "ebe7ae3c-4fdd-4731-aeaa-4248ed060511",
   "metadata": {},
   "source": [
    "Instalação, inicialização e contato inicial"
   ]
  },
  {
   "cell_type": "markdown",
   "id": "b97531f2-71fa-4d95-ba2e-e85a695080d4",
   "metadata": {},
   "source": [
    "#### Instalação \n",
    "\n",
    "Documentação: https://docs.dask.org/en/stable/install.html\n",
    "\n",
    "\n",
    "`pip install \"dask[complete]\"`\n",
    "\n",
    "É possível instalar somente algumas dependências:\n",
    "\n",
    "```{Bash}\n",
    "pip install \"dask[array]\" \n",
    "pip install \"dask[dataframe]\"\n",
    "pip install \"dask[diagnostics]\"\n",
    "pip install \"dask[distributed]\"\n",
    "```"
   ]
  },
  {
   "cell_type": "code",
   "execution_count": 2,
   "id": "bb7014ab-4a5f-4fa1-8fbc-6bb21e581805",
   "metadata": {},
   "outputs": [],
   "source": [
    "# Descomente o código abaixo para instalar o Dask\n",
    "# !pip install dask[complete]"
   ]
  },
  {
   "cell_type": "code",
   "execution_count": null,
   "id": "670c83d4-e063-47c0-8081-d1baa9c7a187",
   "metadata": {},
   "outputs": [],
   "source": []
  }
 ],
 "metadata": {
  "kernelspec": {
   "display_name": "Python 3 (ipykernel)",
   "language": "python",
   "name": "python3"
  },
  "language_info": {
   "codemirror_mode": {
    "name": "ipython",
    "version": 3
   },
   "file_extension": ".py",
   "mimetype": "text/x-python",
   "name": "python",
   "nbconvert_exporter": "python",
   "pygments_lexer": "ipython3",
   "version": "3.8.15"
  }
 },
 "nbformat": 4,
 "nbformat_minor": 5
}
