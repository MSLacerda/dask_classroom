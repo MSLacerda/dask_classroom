{
 "cells": [
  {
   "cell_type": "markdown",
   "id": "0f587ecc-4541-4973-968a-fc1a59bf2ca0",
   "metadata": {},
   "source": [
    "## Exemplo 1: Processamento de imagem"
   ]
  },
  {
   "cell_type": "code",
   "execution_count": null,
   "id": "b23d4441-4c62-422d-8d83-b0adec868bc3",
   "metadata": {},
   "outputs": [],
   "source": [
    "import dask.array as da\n",
    "import dask.image.imread\n",
    "\n",
    "# Carrega a imagem como um array Dask\n",
    "image = dask.image.imread.imread('imagem.png')\n",
    "\n",
    "# Aplica um filtro na imagem\n",
    "filtered = da.convolve(image, kernel)\n",
    "\n",
    "# Reduz o tamanho da imagem\n",
    "smaller = da.resize(filtered, (image.shape[0] // 2, image.shape[1] // 2))\n",
    "\n",
    "# Salva a imagem processada em um arquivo\n",
    "dask.image.imsave('imagem_processada.png', smaller)"
   ]
  },
  {
   "cell_type": "markdown",
   "id": "17f55298-b3b7-4fe8-85b5-5ecf0f188871",
   "metadata": {},
   "source": [
    "Neste exemplo, estamos usando o Dask para carregar uma imagem como um array Dask, aplicar um filtro na imagem, reduzir o tamanho da imagem e, finalmente, salvar a imagem processada em um arquivo. Isso é feito de forma distribuída, o que significa que o processamento é dividido entre vários nós em um cluster Dask."
   ]
  },
  {
   "cell_type": "markdown",
   "id": "79d9bbc9-7500-48a7-b3ba-e3e473e1f4be",
   "metadata": {},
   "source": [
    "## Exemplo 2: Processamento de dados financeiros"
   ]
  },
  {
   "cell_type": "code",
   "execution_count": null,
   "id": "59801171-931f-4002-8ed7-89738dfde547",
   "metadata": {},
   "outputs": [],
   "source": [
    "import dask.dataframe as dd\n",
    "import pandas as pd\n",
    "\n",
    "# Carrega um arquivo CSV como um DataFrame Dask\n",
    "df = dd.read_csv('dados_financeiros.csv')\n",
    "\n",
    "# Filtra as linhas do DataFrame Dask\n",
    "filtered = df[df['valor'] > 1000]\n",
    "\n",
    "# Agrupa os dados por categoria\n",
    "grouped = filtered.groupby('categoria')['valor'].sum()\n",
    "\n",
    "# Converte o DataFrame Dask de volta para um DataFrame pandas\n",
    "result = grouped.compute()\n",
    "\n",
    "# Salva os resultados em um arquivo CSV\n",
    "result.to_csv('resultados.csv', index=False)"
   ]
  },
  {
   "cell_type": "markdown",
   "id": "6e70a90a-e060-426b-9b55-7fde17b938ee",
   "metadata": {},
   "source": [
    "Neste exemplo, estamos usando o Dask para carregar um arquivo CSV como um DataFrame Dask, filtrar as linhas do DataFrame Dask, agrupar os dados por categoria e, finalmente, salvar os resultados em um arquivo CSV. O processamento é feito de forma distribuída, o que significa que várias máquinas podem trabalhar juntas para processar os dados mais rapidamente. Observe que, no final, o DataFrame Dask é convertido de volta para um DataFrame pandas usando o método compute(), que traz todos os dados para a memória para serem processados em um único nó."
   ]
  }
 ],
 "metadata": {
  "kernelspec": {
   "display_name": "Python 3 (ipykernel)",
   "language": "python",
   "name": "python3"
  },
  "language_info": {
   "codemirror_mode": {
    "name": "ipython",
    "version": 3
   },
   "file_extension": ".py",
   "mimetype": "text/x-python",
   "name": "python",
   "nbconvert_exporter": "python",
   "pygments_lexer": "ipython3",
   "version": "3.8.15"
  }
 },
 "nbformat": 4,
 "nbformat_minor": 5
}
